{
 "cells": [
  {
   "cell_type": "code",
   "execution_count": 29,
   "metadata": {
    "collapsed": false,
    "deletable": true,
    "editable": true
   },
   "outputs": [],
   "source": [
    "data Bool =False|True"
   ]
  },
  {
   "cell_type": "code",
   "execution_count": null,
   "metadata": {
    "collapsed": false,
    "deletable": true,
    "editable": true
   },
   "outputs": [],
   "source": []
  },
  {
   "cell_type": "code",
   "execution_count": 33,
   "metadata": {
    "collapsed": false,
    "deletable": true,
    "editable": true
   },
   "outputs": [
    {
     "data": {
      "text/html": [
       "<style>/* Styles used for the Hoogle display in the pager */\n",
       ".hoogle-doc {\n",
       "display: block;\n",
       "padding-bottom: 1.3em;\n",
       "padding-left: 0.4em;\n",
       "}\n",
       ".hoogle-code {\n",
       "display: block;\n",
       "font-family: monospace;\n",
       "white-space: pre;\n",
       "}\n",
       ".hoogle-text {\n",
       "display: block;\n",
       "}\n",
       ".hoogle-name {\n",
       "color: green;\n",
       "font-weight: bold;\n",
       "}\n",
       ".hoogle-head {\n",
       "font-weight: bold;\n",
       "}\n",
       ".hoogle-sub {\n",
       "display: block;\n",
       "margin-left: 0.4em;\n",
       "}\n",
       ".hoogle-package {\n",
       "font-weight: bold;\n",
       "font-style: italic;\n",
       "}\n",
       ".hoogle-module {\n",
       "font-weight: bold;\n",
       "}\n",
       ".hoogle-class {\n",
       "font-weight: bold;\n",
       "}\n",
       ".get-type {\n",
       "color: green;\n",
       "font-weight: bold;\n",
       "font-family: monospace;\n",
       "display: block;\n",
       "white-space: pre-wrap;\n",
       "}\n",
       ".show-type {\n",
       "color: green;\n",
       "font-weight: bold;\n",
       "font-family: monospace;\n",
       "margin-left: 1em;\n",
       "}\n",
       ".mono {\n",
       "font-family: monospace;\n",
       "display: block;\n",
       "}\n",
       ".err-msg {\n",
       "color: red;\n",
       "font-style: italic;\n",
       "font-family: monospace;\n",
       "white-space: pre;\n",
       "display: block;\n",
       "}\n",
       "#unshowable {\n",
       "color: red;\n",
       "font-weight: bold;\n",
       "}\n",
       ".err-msg.in.collapse {\n",
       "padding-top: 0.7em;\n",
       "}\n",
       ".highlight-code {\n",
       "white-space: pre;\n",
       "font-family: monospace;\n",
       "}\n",
       ".suggestion-warning { \n",
       "font-weight: bold;\n",
       "color: rgb(200, 130, 0);\n",
       "}\n",
       ".suggestion-error { \n",
       "font-weight: bold;\n",
       "color: red;\n",
       "}\n",
       ".suggestion-name {\n",
       "font-weight: bold;\n",
       "}\n",
       "</style><span class='err-msg'>Ambiguous occurrence `Shape'<br/>It could refer to either `Shape1.Shape', imported from `Shape1' (and originally defined at Shape1.hs:(2,1)-(5,27))<br/>                      or `Shape2.Shape', imported from `Shape2' (and originally defined at Shape2.hs:(3,5)-(6,27))<br/>                      or `Shapes.Shape', imported from `Shapes' (and originally defined at Shapes.hs:(5,5)-(8,27))<br/><br/><br/>Ambiguous occurrence `Circle'<br/>It could refer to either `Shape1.Circle', imported from `Shape1' (and originally defined at Shape1.hs:2:14-37)<br/>                      or `Shape2.Circle', imported from `Shape2' (and originally defined at Shape2.hs:3:18-35)<br/><br/><br/>Ambiguous occurrence `Rectangle'<br/>It could refer to either `Shape1.Rectangle', imported from `Shape1' (and originally defined at Shape1.hs:3:13-45)<br/>                      or `Shape2.Rectangle', imported from `Shape2' (and originally defined at Shape2.hs:4:13-33)</span>"
      ],
      "text/plain": [
       "Ambiguous occurrence `Shape'\n",
       "It could refer to either `Shape1.Shape', imported from `Shape1' (and originally defined at Shape1.hs:(2,1)-(5,27))\n",
       "                      or `Shape2.Shape', imported from `Shape2' (and originally defined at Shape2.hs:(3,5)-(6,27))\n",
       "                      or `Shapes.Shape', imported from `Shapes' (and originally defined at Shapes.hs:(5,5)-(8,27))\n",
       "\n",
       "\n",
       "Ambiguous occurrence `Circle'\n",
       "It could refer to either `Shape1.Circle', imported from `Shape1' (and originally defined at Shape1.hs:2:14-37)\n",
       "                      or `Shape2.Circle', imported from `Shape2' (and originally defined at Shape2.hs:3:18-35)\n",
       "\n",
       "\n",
       "Ambiguous occurrence `Rectangle'\n",
       "It could refer to either `Shape1.Rectangle', imported from `Shape1' (and originally defined at Shape1.hs:3:13-45)\n",
       "                      or `Shape2.Rectangle', imported from `Shape2' (and originally defined at Shape2.hs:4:13-33)"
      ]
     },
     "metadata": {},
     "output_type": "display_data"
    }
   ],
   "source": [
    "area :: Shape -> Float\n",
    "area (Circle _ _ r) =pi * r^2\n",
    "area (Rectangle x1 y1 x2 y2) = (abs $ x2 - x1) * (abs $ y2-y1)"
   ]
  },
  {
   "cell_type": "code",
   "execution_count": 32,
   "metadata": {
    "collapsed": false
   },
   "outputs": [
    {
     "data": {
      "text/html": [
       "<style>/* Styles used for the Hoogle display in the pager */\n",
       ".hoogle-doc {\n",
       "display: block;\n",
       "padding-bottom: 1.3em;\n",
       "padding-left: 0.4em;\n",
       "}\n",
       ".hoogle-code {\n",
       "display: block;\n",
       "font-family: monospace;\n",
       "white-space: pre;\n",
       "}\n",
       ".hoogle-text {\n",
       "display: block;\n",
       "}\n",
       ".hoogle-name {\n",
       "color: green;\n",
       "font-weight: bold;\n",
       "}\n",
       ".hoogle-head {\n",
       "font-weight: bold;\n",
       "}\n",
       ".hoogle-sub {\n",
       "display: block;\n",
       "margin-left: 0.4em;\n",
       "}\n",
       ".hoogle-package {\n",
       "font-weight: bold;\n",
       "font-style: italic;\n",
       "}\n",
       ".hoogle-module {\n",
       "font-weight: bold;\n",
       "}\n",
       ".hoogle-class {\n",
       "font-weight: bold;\n",
       "}\n",
       ".get-type {\n",
       "color: green;\n",
       "font-weight: bold;\n",
       "font-family: monospace;\n",
       "display: block;\n",
       "white-space: pre-wrap;\n",
       "}\n",
       ".show-type {\n",
       "color: green;\n",
       "font-weight: bold;\n",
       "font-family: monospace;\n",
       "margin-left: 1em;\n",
       "}\n",
       ".mono {\n",
       "font-family: monospace;\n",
       "display: block;\n",
       "}\n",
       ".err-msg {\n",
       "color: red;\n",
       "font-style: italic;\n",
       "font-family: monospace;\n",
       "white-space: pre;\n",
       "display: block;\n",
       "}\n",
       "#unshowable {\n",
       "color: red;\n",
       "font-weight: bold;\n",
       "}\n",
       ".err-msg.in.collapse {\n",
       "padding-top: 0.7em;\n",
       "}\n",
       ".highlight-code {\n",
       "white-space: pre;\n",
       "font-family: monospace;\n",
       "}\n",
       ".suggestion-warning { \n",
       "font-weight: bold;\n",
       "color: rgb(200, 130, 0);\n",
       "}\n",
       ".suggestion-error { \n",
       "font-weight: bold;\n",
       "color: red;\n",
       "}\n",
       ".suggestion-name {\n",
       "font-weight: bold;\n",
       "}\n",
       "</style><span class='err-msg'>Ambiguous occurrence `area'<br/>It could refer to either `Shapes.area', imported from `Shapes' (and originally defined at Shapes.hs:18:5-8)<br/>                      or `Shape2.area', imported from `Shape2' (and originally defined at Shape2.hs:16:5-8)<br/><br/><br/>Ambiguous occurrence `Circle'<br/>It could refer to either `Shape1.Circle', imported from `Shape1' (and originally defined at Shape1.hs:2:14-37)<br/>                      or `Shape2.Circle', imported from `Shape2' (and originally defined at Shape2.hs:3:18-35)</span>"
      ],
      "text/plain": [
       "Ambiguous occurrence `area'\n",
       "It could refer to either `Shapes.area', imported from `Shapes' (and originally defined at Shapes.hs:18:5-8)\n",
       "                      or `Shape2.area', imported from `Shape2' (and originally defined at Shape2.hs:16:5-8)\n",
       "\n",
       "\n",
       "Ambiguous occurrence `Circle'\n",
       "It could refer to either `Shape1.Circle', imported from `Shape1' (and originally defined at Shape1.hs:2:14-37)\n",
       "                      or `Shape2.Circle', imported from `Shape2' (and originally defined at Shape2.hs:3:18-35)"
      ]
     },
     "metadata": {},
     "output_type": "display_data"
    }
   ],
   "source": [
    "area $ Circle 10 20 100"
   ]
  },
  {
   "cell_type": "code",
   "execution_count": 5,
   "metadata": {
    "collapsed": false
   },
   "outputs": [
    {
     "data": {
      "text/plain": [
       "Circle 10.0 20.0 100.0"
      ]
     },
     "metadata": {},
     "output_type": "display_data"
    }
   ],
   "source": [
    "Circle 10 20 100"
   ]
  },
  {
   "cell_type": "code",
   "execution_count": 6,
   "metadata": {
    "collapsed": false
   },
   "outputs": [],
   "source": [
    "aa=map ( Circle 1 1 ) [1,2,3,4,5,6,7,8]"
   ]
  },
  {
   "cell_type": "code",
   "execution_count": 7,
   "metadata": {
    "collapsed": false
   },
   "outputs": [
    {
     "data": {
      "text/plain": [
       "[Circle 1.0 1.0 1.0,Circle 1.0 1.0 2.0,Circle 1.0 1.0 3.0,Circle 1.0 1.0 4.0,Circle 1.0 1.0 5.0,Circle 1.0 1.0 6.0,Circle 1.0 1.0 7.0,Circle 1.0 1.0 8.0]"
      ]
     },
     "metadata": {},
     "output_type": "display_data"
    }
   ],
   "source": [
    "aa"
   ]
  },
  {
   "cell_type": "code",
   "execution_count": 8,
   "metadata": {
    "collapsed": false
   },
   "outputs": [
    {
     "data": {
      "text/plain": [
       "[3.1415927,12.566371,28.274334,50.265484,78.53982,113.097336,153.93805,201.06194]"
      ]
     },
     "metadata": {},
     "output_type": "display_data"
    }
   ],
   "source": [
    "map area aa"
   ]
  },
  {
   "cell_type": "code",
   "execution_count": 26,
   "metadata": {
    "collapsed": false
   },
   "outputs": [],
   "source": [
    "module Shapes \n",
    "    (Point,Shape,baseCircle,baseRec,area,nudge)\n",
    "where\n",
    "    data Point = Point Float Float deriving (Show)\n",
    "    data Shape = Circle Point Float|\n",
    "            Rectangle Point Point\n",
    "            \n",
    "            deriving (Show)\n",
    "    \n",
    "    \n",
    "    baseCircle ::Float->Shape\n",
    "    baseCircle  = Circle (Point 0 0 ) \n",
    "    \n",
    "    baseRec ::Float->Float->Shape\n",
    "    baseRec width height =  Rectangle (Point 0 0) (Point width height )\n",
    "    \n",
    "    area :: Shape -> Float\n",
    "    area (Circle _  r) =pi * r^2\n",
    "    area (Rectangle (Point x1 y1) (Point x2 y2) ) = abs (x2 - x1) * abs ( y2-y1)\n",
    "    \n",
    "    nudge ::Shape->Float->Float->Shape\n",
    "    nudge (Circle (Point x y) r) a b = Circle (Point (x+a) (y+b)) r\n",
    "    nudge (Rectangle (Point x1 y1) (Point x2 y2)) a b =  Rectangle (Point (x1+a) (y1+b)) (Point (x2+a) (y2+b))"
   ]
  },
  {
   "cell_type": "code",
   "execution_count": 23,
   "metadata": {
    "collapsed": false
   },
   "outputs": [
    {
     "data": {
      "text/plain": [
       "Point 1.0 3.0"
      ]
     },
     "metadata": {},
     "output_type": "display_data"
    }
   ],
   "source": [
    "Point 1 3"
   ]
  },
  {
   "cell_type": "code",
   "execution_count": 28,
   "metadata": {
    "collapsed": false
   },
   "outputs": [
    {
     "data": {
      "text/html": [
       "<style>/* Styles used for the Hoogle display in the pager */\n",
       ".hoogle-doc {\n",
       "display: block;\n",
       "padding-bottom: 1.3em;\n",
       "padding-left: 0.4em;\n",
       "}\n",
       ".hoogle-code {\n",
       "display: block;\n",
       "font-family: monospace;\n",
       "white-space: pre;\n",
       "}\n",
       ".hoogle-text {\n",
       "display: block;\n",
       "}\n",
       ".hoogle-name {\n",
       "color: green;\n",
       "font-weight: bold;\n",
       "}\n",
       ".hoogle-head {\n",
       "font-weight: bold;\n",
       "}\n",
       ".hoogle-sub {\n",
       "display: block;\n",
       "margin-left: 0.4em;\n",
       "}\n",
       ".hoogle-package {\n",
       "font-weight: bold;\n",
       "font-style: italic;\n",
       "}\n",
       ".hoogle-module {\n",
       "font-weight: bold;\n",
       "}\n",
       ".hoogle-class {\n",
       "font-weight: bold;\n",
       "}\n",
       ".get-type {\n",
       "color: green;\n",
       "font-weight: bold;\n",
       "font-family: monospace;\n",
       "display: block;\n",
       "white-space: pre-wrap;\n",
       "}\n",
       ".show-type {\n",
       "color: green;\n",
       "font-weight: bold;\n",
       "font-family: monospace;\n",
       "margin-left: 1em;\n",
       "}\n",
       ".mono {\n",
       "font-family: monospace;\n",
       "display: block;\n",
       "}\n",
       ".err-msg {\n",
       "color: red;\n",
       "font-style: italic;\n",
       "font-family: monospace;\n",
       "white-space: pre;\n",
       "display: block;\n",
       "}\n",
       "#unshowable {\n",
       "color: red;\n",
       "font-weight: bold;\n",
       "}\n",
       ".err-msg.in.collapse {\n",
       "padding-top: 0.7em;\n",
       "}\n",
       ".highlight-code {\n",
       "white-space: pre;\n",
       "font-family: monospace;\n",
       "}\n",
       ".suggestion-warning { \n",
       "font-weight: bold;\n",
       "color: rgb(200, 130, 0);\n",
       "}\n",
       ".suggestion-error { \n",
       "font-weight: bold;\n",
       "color: red;\n",
       "}\n",
       ".suggestion-name {\n",
       "font-weight: bold;\n",
       "}\n",
       "</style><span class='err-msg'>Ambiguous occurrence `nudge'<br/>It could refer to either `Shapes.nudge', imported from `Shapes' (and originally defined at Shapes.hs:22:5-9)<br/>                      or `Shape2.nudge', imported from `Shape2' (and originally defined at Shape2.hs:20:5-9)<br/><br/><br/>Ambiguous occurrence `baseCircle'<br/>It could refer to either `Shapes.baseCircle', imported from `Shapes' (and originally defined at Shapes.hs:12:5-14)<br/>                      or `Shape2.baseCircle', imported from `Shape2' (and originally defined at Shape2.hs:10:5-14)</span>"
      ],
      "text/plain": [
       "Ambiguous occurrence `nudge'\n",
       "It could refer to either `Shapes.nudge', imported from `Shapes' (and originally defined at Shapes.hs:22:5-9)\n",
       "                      or `Shape2.nudge', imported from `Shape2' (and originally defined at Shape2.hs:20:5-9)\n",
       "\n",
       "\n",
       "Ambiguous occurrence `baseCircle'\n",
       "It could refer to either `Shapes.baseCircle', imported from `Shapes' (and originally defined at Shapes.hs:12:5-14)\n",
       "                      or `Shape2.baseCircle', imported from `Shape2' (and originally defined at Shape2.hs:10:5-14)"
      ]
     },
     "metadata": {},
     "output_type": "display_data"
    }
   ],
   "source": [
    "nudge (baseCircle  2) 100 200"
   ]
  },
  {
   "cell_type": "code",
   "execution_count": null,
   "metadata": {
    "collapsed": true
   },
   "outputs": [],
   "source": []
  }
 ],
 "metadata": {
  "kernelspec": {
   "display_name": "Haskell",
   "language": "haskell",
   "name": "haskell"
  },
  "language_info": {
   "codemirror_mode": "ihaskell",
   "file_extension": ".hs",
   "name": "haskell",
   "version": "7.10.3"
  }
 },
 "nbformat": 4,
 "nbformat_minor": 2
}
